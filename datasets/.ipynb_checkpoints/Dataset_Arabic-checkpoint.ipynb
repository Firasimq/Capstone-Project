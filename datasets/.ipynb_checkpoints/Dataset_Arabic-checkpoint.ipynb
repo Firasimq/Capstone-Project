{
 "cells": [
  {
   "cell_type": "markdown",
   "id": "8cab5277-9d08-4e53-a439-f55f443f83c6",
   "metadata": {},
   "source": [
    "# Dataset1"
   ]
  },
  {
   "cell_type": "code",
   "execution_count": 4,
   "id": "30a9356d-4d9d-456c-b2ee-588dcc5376fc",
   "metadata": {},
   "outputs": [],
   "source": [
    "#Import all relevant libraries\n",
    "import numpy as np\n",
    "import pandas as pd\n",
    "import matplotlib.pyplot as plt\n",
    "import seaborn as sns\n",
    "import dtale as dt\n",
    "from ydata_profiling import ProfileReport as pr\n",
    "import sweetviz as sv\n",
    "import plotly.express as px \n",
    "## This statement allows the visuals to render within your Jupyter Notebook.\n",
    "%matplotlib inline"
   ]
  }
 ],
 "metadata": {
  "kernelspec": {
   "display_name": "Python 3 (ipykernel)",
   "language": "python",
   "name": "python3"
  },
  "language_info": {
   "codemirror_mode": {
    "name": "ipython",
    "version": 3
   },
   "file_extension": ".py",
   "mimetype": "text/x-python",
   "name": "python",
   "nbconvert_exporter": "python",
   "pygments_lexer": "ipython3",
   "version": "3.12.4"
  }
 },
 "nbformat": 4,
 "nbformat_minor": 5
}
