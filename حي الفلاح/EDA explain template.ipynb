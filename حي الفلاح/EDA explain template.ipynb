{
 "cells": [
  {
   "cell_type": "markdown",
   "id": "8cbd4f97-92e9-4716-99c1-ebe9c20359d4",
   "metadata": {},
   "source": [
    "# حي الفلاح"
   ]
  },
  {
   "cell_type": "code",
   "execution_count": 2,
   "id": "e69c4ba1-85f3-4a02-ae37-c64347a01803",
   "metadata": {},
   "outputs": [],
   "source": [
    "#Import all relevant libraries\n",
    "import numpy as np\n",
    "import pandas as pd\n",
    "import matplotlib.pyplot as plt\n",
    "import seaborn as sns\n",
    "from scipy.stats import zscore\n",
    "import dtale as dt\n",
    "from ydata_profiling import ProfileReport as pr\n",
    "import sweetviz as sv\n",
    "import plotly.express as px \n",
    "## This statement allows the visuals to render within your Jupyter Notebook.\n",
    "%matplotlib inline"
   ]
  },
  {
   "cell_type": "markdown",
   "id": "e395e8bf-b530-4720-8d0f-26811e927d6e",
   "metadata": {},
   "source": [
    "## Loading the data\n",
    "We can now load the dataset into pandas using the read_csv() function. This converts the CSV file into a Pandas dataframe."
   ]
  },
  {
   "cell_type": "code",
   "execution_count": 4,
   "id": "cf4030b0-aa7f-4bd7-8e9c-c1b7f4d202d0",
   "metadata": {},
   "outputs": [],
   "source": [
    "#Read in the csv file and convert to a Pandas dataframe"
   ]
  },
  {
   "cell_type": "code",
   "execution_count": 5,
   "id": "a0eeba3e-87f1-4dd4-968c-0cee16a326c4",
   "metadata": {},
   "outputs": [],
   "source": [
    "df = pd.read_csv('gender_age.csv')"
   ]
  },
  {
   "cell_type": "code",
   "execution_count": 6,
   "id": "7cbb4bb2-21ad-4fbf-b64b-1911292e496f",
   "metadata": {},
   "outputs": [],
   "source": [
    "df1 = pd.read_csv('business.csv')"
   ]
  },
  {
   "cell_type": "markdown",
   "id": "ca5ed983-0f72-43eb-8168-6fafd48c562e",
   "metadata": {},
   "source": [
    "### Viewing the dataframe\n",
    "We can get a quick sense of the size of our dataset by using the shape method. This returns a tuple with the number of rows and columns in the dataset."
   ]
  },
  {
   "cell_type": "code",
   "execution_count": 8,
   "id": "bfde0b69-613c-4dd1-8ebf-e4d2e570e653",
   "metadata": {},
   "outputs": [
    {
     "data": {
      "text/html": [
       "<div>\n",
       "<style scoped>\n",
       "    .dataframe tbody tr th:only-of-type {\n",
       "        vertical-align: middle;\n",
       "    }\n",
       "\n",
       "    .dataframe tbody tr th {\n",
       "        vertical-align: top;\n",
       "    }\n",
       "\n",
       "    .dataframe thead th {\n",
       "        text-align: right;\n",
       "    }\n",
       "</style>\n",
       "<table border=\"1\" class=\"dataframe\">\n",
       "  <thead>\n",
       "    <tr style=\"text-align: right;\">\n",
       "      <th></th>\n",
       "      <th>الجنس;\"الفئة العمرية\";الحجم</th>\n",
       "    </tr>\n",
       "  </thead>\n",
       "  <tbody>\n",
       "    <tr>\n",
       "      <th>0</th>\n",
       "      <td>إناث;0-9;2687</td>\n",
       "    </tr>\n",
       "    <tr>\n",
       "      <th>1</th>\n",
       "      <td>إناث;10-19;4547</td>\n",
       "    </tr>\n",
       "    <tr>\n",
       "      <th>2</th>\n",
       "      <td>إناث;20-29;3347</td>\n",
       "    </tr>\n",
       "    <tr>\n",
       "      <th>3</th>\n",
       "      <td>إناث;30-39;4171</td>\n",
       "    </tr>\n",
       "    <tr>\n",
       "      <th>4</th>\n",
       "      <td>إناث;40-49;2429</td>\n",
       "    </tr>\n",
       "    <tr>\n",
       "      <th>5</th>\n",
       "      <td>إناث;50-59;1250</td>\n",
       "    </tr>\n",
       "    <tr>\n",
       "      <th>6</th>\n",
       "      <td>إناث;60-69;675</td>\n",
       "    </tr>\n",
       "    <tr>\n",
       "      <th>7</th>\n",
       "      <td>إناث;70-79;66</td>\n",
       "    </tr>\n",
       "    <tr>\n",
       "      <th>8</th>\n",
       "      <td>إناث;80+;133</td>\n",
       "    </tr>\n",
       "    <tr>\n",
       "      <th>9</th>\n",
       "      <td>ذكور;0-9;3110</td>\n",
       "    </tr>\n",
       "    <tr>\n",
       "      <th>10</th>\n",
       "      <td>ذكور;10-19;4321</td>\n",
       "    </tr>\n",
       "    <tr>\n",
       "      <th>11</th>\n",
       "      <td>ذكور;20-29;3614</td>\n",
       "    </tr>\n",
       "    <tr>\n",
       "      <th>12</th>\n",
       "      <td>ذكور;30-39;2875</td>\n",
       "    </tr>\n",
       "    <tr>\n",
       "      <th>13</th>\n",
       "      <td>ذكور;40-49;3126</td>\n",
       "    </tr>\n",
       "    <tr>\n",
       "      <th>14</th>\n",
       "      <td>ذكور;50-59;1609</td>\n",
       "    </tr>\n",
       "    <tr>\n",
       "      <th>15</th>\n",
       "      <td>ذكور;60-69;684</td>\n",
       "    </tr>\n",
       "    <tr>\n",
       "      <th>16</th>\n",
       "      <td>ذكور;70-79;0</td>\n",
       "    </tr>\n",
       "    <tr>\n",
       "      <th>17</th>\n",
       "      <td>ذكور;80+;66</td>\n",
       "    </tr>\n",
       "  </tbody>\n",
       "</table>\n",
       "</div>"
      ],
      "text/plain": [
       "   الجنس;\"الفئة العمرية\";الحجم\n",
       "0                إناث;0-9;2687\n",
       "1              إناث;10-19;4547\n",
       "2              إناث;20-29;3347\n",
       "3              إناث;30-39;4171\n",
       "4              إناث;40-49;2429\n",
       "5              إناث;50-59;1250\n",
       "6               إناث;60-69;675\n",
       "7                إناث;70-79;66\n",
       "8                 إناث;80+;133\n",
       "9                ذكور;0-9;3110\n",
       "10             ذكور;10-19;4321\n",
       "11             ذكور;20-29;3614\n",
       "12             ذكور;30-39;2875\n",
       "13             ذكور;40-49;3126\n",
       "14             ذكور;50-59;1609\n",
       "15              ذكور;60-69;684\n",
       "16                ذكور;70-79;0\n",
       "17                 ذكور;80+;66"
      ]
     },
     "execution_count": 8,
     "metadata": {},
     "output_type": "execute_result"
    }
   ],
   "source": [
    "df"
   ]
  },
  {
   "cell_type": "code",
   "execution_count": 9,
   "id": "fa22eace-eedd-4799-808f-3503d8f1e57a",
   "metadata": {},
   "outputs": [],
   "source": [
    "df[['الجنس', 'الفئةالعمرية', 'الحجم']] = df['الجنس;\"الفئة العمرية\";الحجم'].str.split(';', expand=True)"
   ]
  },
  {
   "cell_type": "code",
   "execution_count": 10,
   "id": "56a47015-a98c-473a-878a-5eafd758341a",
   "metadata": {},
   "outputs": [],
   "source": [
    "df.drop(['الجنس;\"الفئة العمرية\";الحجم'],axis = 1, inplace = True)"
   ]
  },
  {
   "cell_type": "code",
   "execution_count": 11,
   "id": "df0f57d0-87c1-470e-b333-47d07e96a3ad",
   "metadata": {},
   "outputs": [],
   "source": [
    "df = df.rename(columns= {'الحجم': 'Count'})"
   ]
  },
  {
   "cell_type": "code",
   "execution_count": 12,
   "id": "9c56b0e2-0cf2-4eba-8042-1d21e8aa5171",
   "metadata": {},
   "outputs": [],
   "source": [
    "df = df.rename(columns= {'الجنس': 'Gender'})"
   ]
  },
  {
   "cell_type": "code",
   "execution_count": 13,
   "id": "05f5b19c-dd03-4c21-b6f0-1bd472ffe85e",
   "metadata": {},
   "outputs": [],
   "source": [
    "df = df.rename(columns= {'الفئةالعمرية': 'Age'})"
   ]
  },
  {
   "cell_type": "code",
   "execution_count": 14,
   "id": "5bde7050-e86c-4f59-b4ed-108c26d2128f",
   "metadata": {},
   "outputs": [],
   "source": [
    "df['Count'] = df['Count'].astype(int)"
   ]
  },
  {
   "cell_type": "code",
   "execution_count": 15,
   "id": "b3de7a36-38a0-4ce5-a634-62645ab3a717",
   "metadata": {},
   "outputs": [],
   "source": [
    "total = df['Count'].sum()"
   ]
  },
  {
   "cell_type": "code",
   "execution_count": 16,
   "id": "074bb2ea-64e0-4e2f-8a01-96d6491e1afd",
   "metadata": {},
   "outputs": [],
   "source": [
    "total = { 'Gender': 'المجموع' , 'Age' : 'المجموع' , 'Count' : df['Count'].sum()}"
   ]
  },
  {
   "cell_type": "code",
   "execution_count": 17,
   "id": "4e63079e-6368-4b0b-a413-f2270f5a375f",
   "metadata": {},
   "outputs": [],
   "source": [
    "df = pd.concat([df, pd.DataFrame([total])], ignore_index=True)"
   ]
  },
  {
   "cell_type": "code",
   "execution_count": 18,
   "id": "1e907fee-eda9-4de7-a228-f5499fbc6cd3",
   "metadata": {},
   "outputs": [
    {
     "data": {
      "text/html": [
       "<div>\n",
       "<style scoped>\n",
       "    .dataframe tbody tr th:only-of-type {\n",
       "        vertical-align: middle;\n",
       "    }\n",
       "\n",
       "    .dataframe tbody tr th {\n",
       "        vertical-align: top;\n",
       "    }\n",
       "\n",
       "    .dataframe thead th {\n",
       "        text-align: right;\n",
       "    }\n",
       "</style>\n",
       "<table border=\"1\" class=\"dataframe\">\n",
       "  <thead>\n",
       "    <tr style=\"text-align: right;\">\n",
       "      <th></th>\n",
       "      <th>Gender</th>\n",
       "      <th>Age</th>\n",
       "      <th>Count</th>\n",
       "    </tr>\n",
       "  </thead>\n",
       "  <tbody>\n",
       "    <tr>\n",
       "      <th>0</th>\n",
       "      <td>إناث</td>\n",
       "      <td>0-9</td>\n",
       "      <td>2687</td>\n",
       "    </tr>\n",
       "    <tr>\n",
       "      <th>1</th>\n",
       "      <td>إناث</td>\n",
       "      <td>10-19</td>\n",
       "      <td>4547</td>\n",
       "    </tr>\n",
       "    <tr>\n",
       "      <th>2</th>\n",
       "      <td>إناث</td>\n",
       "      <td>20-29</td>\n",
       "      <td>3347</td>\n",
       "    </tr>\n",
       "    <tr>\n",
       "      <th>3</th>\n",
       "      <td>إناث</td>\n",
       "      <td>30-39</td>\n",
       "      <td>4171</td>\n",
       "    </tr>\n",
       "    <tr>\n",
       "      <th>4</th>\n",
       "      <td>إناث</td>\n",
       "      <td>40-49</td>\n",
       "      <td>2429</td>\n",
       "    </tr>\n",
       "    <tr>\n",
       "      <th>5</th>\n",
       "      <td>إناث</td>\n",
       "      <td>50-59</td>\n",
       "      <td>1250</td>\n",
       "    </tr>\n",
       "    <tr>\n",
       "      <th>6</th>\n",
       "      <td>إناث</td>\n",
       "      <td>60-69</td>\n",
       "      <td>675</td>\n",
       "    </tr>\n",
       "    <tr>\n",
       "      <th>7</th>\n",
       "      <td>إناث</td>\n",
       "      <td>70-79</td>\n",
       "      <td>66</td>\n",
       "    </tr>\n",
       "    <tr>\n",
       "      <th>8</th>\n",
       "      <td>إناث</td>\n",
       "      <td>80+</td>\n",
       "      <td>133</td>\n",
       "    </tr>\n",
       "    <tr>\n",
       "      <th>9</th>\n",
       "      <td>ذكور</td>\n",
       "      <td>0-9</td>\n",
       "      <td>3110</td>\n",
       "    </tr>\n",
       "    <tr>\n",
       "      <th>10</th>\n",
       "      <td>ذكور</td>\n",
       "      <td>10-19</td>\n",
       "      <td>4321</td>\n",
       "    </tr>\n",
       "    <tr>\n",
       "      <th>11</th>\n",
       "      <td>ذكور</td>\n",
       "      <td>20-29</td>\n",
       "      <td>3614</td>\n",
       "    </tr>\n",
       "    <tr>\n",
       "      <th>12</th>\n",
       "      <td>ذكور</td>\n",
       "      <td>30-39</td>\n",
       "      <td>2875</td>\n",
       "    </tr>\n",
       "    <tr>\n",
       "      <th>13</th>\n",
       "      <td>ذكور</td>\n",
       "      <td>40-49</td>\n",
       "      <td>3126</td>\n",
       "    </tr>\n",
       "    <tr>\n",
       "      <th>14</th>\n",
       "      <td>ذكور</td>\n",
       "      <td>50-59</td>\n",
       "      <td>1609</td>\n",
       "    </tr>\n",
       "    <tr>\n",
       "      <th>15</th>\n",
       "      <td>ذكور</td>\n",
       "      <td>60-69</td>\n",
       "      <td>684</td>\n",
       "    </tr>\n",
       "    <tr>\n",
       "      <th>16</th>\n",
       "      <td>ذكور</td>\n",
       "      <td>70-79</td>\n",
       "      <td>0</td>\n",
       "    </tr>\n",
       "    <tr>\n",
       "      <th>17</th>\n",
       "      <td>ذكور</td>\n",
       "      <td>80+</td>\n",
       "      <td>66</td>\n",
       "    </tr>\n",
       "    <tr>\n",
       "      <th>18</th>\n",
       "      <td>المجموع</td>\n",
       "      <td>المجموع</td>\n",
       "      <td>38710</td>\n",
       "    </tr>\n",
       "  </tbody>\n",
       "</table>\n",
       "</div>"
      ],
      "text/plain": [
       "     Gender      Age  Count\n",
       "0      إناث      0-9   2687\n",
       "1      إناث    10-19   4547\n",
       "2      إناث    20-29   3347\n",
       "3      إناث    30-39   4171\n",
       "4      إناث    40-49   2429\n",
       "5      إناث    50-59   1250\n",
       "6      إناث    60-69    675\n",
       "7      إناث    70-79     66\n",
       "8      إناث      80+    133\n",
       "9      ذكور      0-9   3110\n",
       "10     ذكور    10-19   4321\n",
       "11     ذكور    20-29   3614\n",
       "12     ذكور    30-39   2875\n",
       "13     ذكور    40-49   3126\n",
       "14     ذكور    50-59   1609\n",
       "15     ذكور    60-69    684\n",
       "16     ذكور    70-79      0\n",
       "17     ذكور      80+     66\n",
       "18  المجموع  المجموع  38710"
      ]
     },
     "execution_count": 18,
     "metadata": {},
     "output_type": "execute_result"
    }
   ],
   "source": [
    "df"
   ]
  },
  {
   "cell_type": "markdown",
   "id": "85404324-de53-4e07-bbc2-8acf48f9958c",
   "metadata": {},
   "source": [
    "# ______________________________"
   ]
  },
  {
   "cell_type": "code",
   "execution_count": 20,
   "id": "1e8f1fed-88fd-411f-9f87-8e24eebc9469",
   "metadata": {},
   "outputs": [
    {
     "data": {
      "text/html": [
       "<div>\n",
       "<style scoped>\n",
       "    .dataframe tbody tr th:only-of-type {\n",
       "        vertical-align: middle;\n",
       "    }\n",
       "\n",
       "    .dataframe tbody tr th {\n",
       "        vertical-align: top;\n",
       "    }\n",
       "\n",
       "    .dataframe thead th {\n",
       "        text-align: right;\n",
       "    }\n",
       "</style>\n",
       "<table border=\"1\" class=\"dataframe\">\n",
       "  <thead>\n",
       "    <tr style=\"text-align: right;\">\n",
       "      <th></th>\n",
       "      <th>الاسم;الحجم</th>\n",
       "    </tr>\n",
       "  </thead>\n",
       "  <tbody>\n",
       "    <tr>\n",
       "      <th>0</th>\n",
       "      <td>البقالات المحلية;17</td>\n",
       "    </tr>\n",
       "    <tr>\n",
       "      <th>1</th>\n",
       "      <td>مطاعم محلية - بوفيه;14</td>\n",
       "    </tr>\n",
       "    <tr>\n",
       "      <th>2</th>\n",
       "      <td>محلات أجهزة التسخين والتكييف ومعدات السباكة;13</td>\n",
       "    </tr>\n",
       "    <tr>\n",
       "      <th>3</th>\n",
       "      <td>المقاهي;12</td>\n",
       "    </tr>\n",
       "    <tr>\n",
       "      <th>4</th>\n",
       "      <td>مطاعم الوجبات السريعة;11</td>\n",
       "    </tr>\n",
       "    <tr>\n",
       "      <th>...</th>\n",
       "      <td>...</td>\n",
       "    </tr>\n",
       "    <tr>\n",
       "      <th>342</th>\n",
       "      <td>المرافق الأخرى لتصريف مياه المجاري;0</td>\n",
       "    </tr>\n",
       "    <tr>\n",
       "      <th>343</th>\n",
       "      <td>محطات معالجة المياه;0</td>\n",
       "    </tr>\n",
       "    <tr>\n",
       "      <th>344</th>\n",
       "      <td>مرافق الإذاعة والتلفزيون الأخرى;0</td>\n",
       "    </tr>\n",
       "    <tr>\n",
       "      <th>345</th>\n",
       "      <td>محطات الأبراج لإرسال البث;0</td>\n",
       "    </tr>\n",
       "    <tr>\n",
       "      <th>346</th>\n",
       "      <td>المرافق الأخرى للهاتف;0</td>\n",
       "    </tr>\n",
       "  </tbody>\n",
       "</table>\n",
       "<p>347 rows × 1 columns</p>\n",
       "</div>"
      ],
      "text/plain": [
       "                                        الاسم;الحجم\n",
       "0                               البقالات المحلية;17\n",
       "1                            مطاعم محلية - بوفيه;14\n",
       "2    محلات أجهزة التسخين والتكييف ومعدات السباكة;13\n",
       "3                                        المقاهي;12\n",
       "4                          مطاعم الوجبات السريعة;11\n",
       "..                                              ...\n",
       "342            المرافق الأخرى لتصريف مياه المجاري;0\n",
       "343                           محطات معالجة المياه;0\n",
       "344               مرافق الإذاعة والتلفزيون الأخرى;0\n",
       "345                     محطات الأبراج لإرسال البث;0\n",
       "346                         المرافق الأخرى للهاتف;0\n",
       "\n",
       "[347 rows x 1 columns]"
      ]
     },
     "execution_count": 20,
     "metadata": {},
     "output_type": "execute_result"
    }
   ],
   "source": [
    "df1"
   ]
  },
  {
   "cell_type": "code",
   "execution_count": 21,
   "id": "62edeee4-d607-405e-804a-224fefcbcf59",
   "metadata": {},
   "outputs": [],
   "source": [
    "df1[['الاسم', 'الحجم']] = df1['الاسم;الحجم'].str.split(';', expand=True)"
   ]
  },
  {
   "cell_type": "code",
   "execution_count": 22,
   "id": "49216e83-5cbd-44c4-a664-808add7a2ea8",
   "metadata": {},
   "outputs": [],
   "source": [
    "df1.drop(['الاسم;الحجم'],axis = 1, inplace = True)"
   ]
  },
  {
   "cell_type": "code",
   "execution_count": 23,
   "id": "21c5056e-9ef5-4d9b-8194-7329b0ebebdf",
   "metadata": {},
   "outputs": [],
   "source": [
    "df1 = df1.rename(columns= {'الحجم': 'Count' })"
   ]
  },
  {
   "cell_type": "code",
   "execution_count": 24,
   "id": "2617cb36-8a79-451d-b652-80a4776787ce",
   "metadata": {},
   "outputs": [],
   "source": [
    "df1 = df1.rename(columns= {'الاسم': 'business' })"
   ]
  },
  {
   "cell_type": "code",
   "execution_count": 25,
   "id": "3f1732af-6526-4245-96db-9d8e4656620b",
   "metadata": {},
   "outputs": [],
   "source": [
    "df1['Count'] = df1['Count'].astype(int)"
   ]
  },
  {
   "cell_type": "code",
   "execution_count": 26,
   "id": "4338c486-22e3-4a43-97a3-c787ea174a3f",
   "metadata": {},
   "outputs": [],
   "source": [
    "# Filter for rows where 'business' contains 'مطاعم' and sum the 'Count' column\n",
    "total_sum_restaurants = df1[df1['business'].str.contains('مطاعم', case=False, na=False)]['Count'].sum()\n",
    "\n",
    "# Create a new row with the total\n",
    "total_row = pd.DataFrame({'business': ['إجمالي عدد المطاعم'], 'Count': [total_sum_restaurants]})\n",
    "\n",
    "# Append the new row to the original DataFrame\n",
    "df1 = pd.concat([df1, total_row], ignore_index=True)"
   ]
  },
  {
   "cell_type": "code",
   "execution_count": 111,
   "id": "b0311fd2-dfcd-4608-bf10-478241608813",
   "metadata": {},
   "outputs": [
    {
     "data": {
      "text/html": [
       "<div>\n",
       "<style scoped>\n",
       "    .dataframe tbody tr th:only-of-type {\n",
       "        vertical-align: middle;\n",
       "    }\n",
       "\n",
       "    .dataframe tbody tr th {\n",
       "        vertical-align: top;\n",
       "    }\n",
       "\n",
       "    .dataframe thead th {\n",
       "        text-align: right;\n",
       "    }\n",
       "</style>\n",
       "<table border=\"1\" class=\"dataframe\">\n",
       "  <thead>\n",
       "    <tr style=\"text-align: right;\">\n",
       "      <th></th>\n",
       "      <th>business</th>\n",
       "      <th>Count</th>\n",
       "    </tr>\n",
       "  </thead>\n",
       "  <tbody>\n",
       "    <tr>\n",
       "      <th>343</th>\n",
       "      <td>محطات معالجة المياه</td>\n",
       "      <td>0</td>\n",
       "    </tr>\n",
       "    <tr>\n",
       "      <th>344</th>\n",
       "      <td>مرافق الإذاعة والتلفزيون الأخرى</td>\n",
       "      <td>0</td>\n",
       "    </tr>\n",
       "    <tr>\n",
       "      <th>345</th>\n",
       "      <td>محطات الأبراج لإرسال البث</td>\n",
       "      <td>0</td>\n",
       "    </tr>\n",
       "    <tr>\n",
       "      <th>346</th>\n",
       "      <td>المرافق الأخرى للهاتف</td>\n",
       "      <td>0</td>\n",
       "    </tr>\n",
       "    <tr>\n",
       "      <th>347</th>\n",
       "      <td>إجمالي عدد المطاعم</td>\n",
       "      <td>34</td>\n",
       "    </tr>\n",
       "    <tr>\n",
       "      <th>348</th>\n",
       "      <td>إجمالي عدد السوبر ماركت</td>\n",
       "      <td>0</td>\n",
       "    </tr>\n",
       "    <tr>\n",
       "      <th>349</th>\n",
       "      <td>إجمالي عدد المقاهي</td>\n",
       "      <td>12</td>\n",
       "    </tr>\n",
       "    <tr>\n",
       "      <th>350</th>\n",
       "      <td>إجمالي عدد المساجد</td>\n",
       "      <td>21</td>\n",
       "    </tr>\n",
       "    <tr>\n",
       "      <th>351</th>\n",
       "      <td>إجمالي عدد المراكز الصحية</td>\n",
       "      <td>1</td>\n",
       "    </tr>\n",
       "    <tr>\n",
       "      <th>352</th>\n",
       "      <td>إجمالي عدد الحدائق</td>\n",
       "      <td>2</td>\n",
       "    </tr>\n",
       "    <tr>\n",
       "      <th>353</th>\n",
       "      <td>إجمالي عدد البقالات</td>\n",
       "      <td>17</td>\n",
       "    </tr>\n",
       "    <tr>\n",
       "      <th>354</th>\n",
       "      <td>إجمالي عدد الأندية الرياضية</td>\n",
       "      <td>0</td>\n",
       "    </tr>\n",
       "    <tr>\n",
       "      <th>355</th>\n",
       "      <td>اجمالي عدد محطات الباص</td>\n",
       "      <td>3</td>\n",
       "    </tr>\n",
       "  </tbody>\n",
       "</table>\n",
       "</div>"
      ],
      "text/plain": [
       "                            business  Count\n",
       "343              محطات معالجة المياه      0\n",
       "344  مرافق الإذاعة والتلفزيون الأخرى      0\n",
       "345        محطات الأبراج لإرسال البث      0\n",
       "346            المرافق الأخرى للهاتف      0\n",
       "347               إجمالي عدد المطاعم     34\n",
       "348          إجمالي عدد السوبر ماركت      0\n",
       "349               إجمالي عدد المقاهي     12\n",
       "350               إجمالي عدد المساجد     21\n",
       "351        إجمالي عدد المراكز الصحية      1\n",
       "352               إجمالي عدد الحدائق      2\n",
       "353              إجمالي عدد البقالات     17\n",
       "354      إجمالي عدد الأندية الرياضية      0\n",
       "355           اجمالي عدد محطات الباص      3"
      ]
     },
     "execution_count": 111,
     "metadata": {},
     "output_type": "execute_result"
    }
   ],
   "source": [
    "df1.tail(13)"
   ]
  },
  {
   "cell_type": "code",
   "execution_count": 28,
   "id": "7a8cd2f4-a3e3-4fb0-87f9-2ba1615c57f6",
   "metadata": {},
   "outputs": [
    {
     "data": {
      "text/html": [
       "<div>\n",
       "<style scoped>\n",
       "    .dataframe tbody tr th:only-of-type {\n",
       "        vertical-align: middle;\n",
       "    }\n",
       "\n",
       "    .dataframe tbody tr th {\n",
       "        vertical-align: top;\n",
       "    }\n",
       "\n",
       "    .dataframe thead th {\n",
       "        text-align: right;\n",
       "    }\n",
       "</style>\n",
       "<table border=\"1\" class=\"dataframe\">\n",
       "  <thead>\n",
       "    <tr style=\"text-align: right;\">\n",
       "      <th></th>\n",
       "      <th>business</th>\n",
       "      <th>Count</th>\n",
       "    </tr>\n",
       "  </thead>\n",
       "  <tbody>\n",
       "    <tr>\n",
       "      <th>222</th>\n",
       "      <td>الأندية الرياضية الرجالية</td>\n",
       "      <td>0</td>\n",
       "    </tr>\n",
       "    <tr>\n",
       "      <th>234</th>\n",
       "      <td>الأندية الرياضية النسائية</td>\n",
       "      <td>0</td>\n",
       "    </tr>\n",
       "  </tbody>\n",
       "</table>\n",
       "</div>"
      ],
      "text/plain": [
       "                      business  Count\n",
       "222  الأندية الرياضية الرجالية      0\n",
       "234  الأندية الرياضية النسائية      0"
      ]
     },
     "execution_count": 28,
     "metadata": {},
     "output_type": "execute_result"
    }
   ],
   "source": [
    "df1[(df1['business'].str.contains('الأندية', case=False, na=False))]"
   ]
  },
  {
   "cell_type": "code",
   "execution_count": 30,
   "id": "4b78ae35-7226-4cb6-b8b2-a46c2ed17cf9",
   "metadata": {},
   "outputs": [],
   "source": [
    "# Filter for rows where 'business' contains 'مطاعم' and sum the 'Count' column\n",
    "total_sum_super = df1[df1['business'].str.contains('سوبر', case=False, na=False)]['Count'].sum()\n",
    "\n",
    "# Create a new row with the total\n",
    "total_row = pd.DataFrame({'business': ['إجمالي عدد السوبر ماركت'], 'Count': [total_sum_super]})\n",
    "\n",
    "# Append the new row to the original DataFrame\n",
    "df1 = pd.concat([df1, total_row], ignore_index=True)"
   ]
  },
  {
   "cell_type": "code",
   "execution_count": 31,
   "id": "50a934b7-a0cd-443f-8a27-f10e9a6e8647",
   "metadata": {
    "scrolled": true
   },
   "outputs": [],
   "source": [
    "# Filter for rows where 'business' contains 'مطاعم' and sum the 'Count' column\n",
    "total_sum_coffee = df1[df1['business'].str.contains('مقاهي', case=False, na=False)]['Count'].sum()\n",
    "\n",
    "# Create a new row with the total\n",
    "total_row = pd.DataFrame({'business': ['إجمالي عدد المقاهي'], 'Count': [total_sum_coffee]})\n",
    "\n",
    "# Append the new row to the original DataFrame\n",
    "df1 = pd.concat([df1, total_row], ignore_index=True)"
   ]
  },
  {
   "cell_type": "code",
   "execution_count": 32,
   "id": "a509a7aa-58f4-4d39-8eb8-e8298a21f2a7",
   "metadata": {},
   "outputs": [],
   "source": [
    "# Filter for rows where 'business' contains 'مطاعم' and sum the 'Count' column\n",
    "total_sum_mosq = df1[df1['business'].str.contains('مساجد', case=False, na=False)]['Count'].sum()\n",
    "\n",
    "# Create a new row with the total\n",
    "total_row = pd.DataFrame({'business': ['إجمالي عدد المساجد'], 'Count': [total_sum_mosq]})\n",
    "\n",
    "# Append the new row to the original DataFrame\n",
    "df1 = pd.concat([df1, total_row], ignore_index=True)"
   ]
  },
  {
   "cell_type": "code",
   "execution_count": 33,
   "id": "739ddb6c-33f2-45b3-95ec-53871183267d",
   "metadata": {},
   "outputs": [],
   "source": [
    "categories_to_sum = [\n",
    "    'عيادات أطباء الأسنان الخاصة', 'عيادات الأطباء الخاصة', 'مراكز الرعاية الأولية الحكومية',\n",
    "    'الهلال الأحمر', 'المرافق الصحية الحكومية الأخرى', 'المختبرات الطبية الحكومية',\n",
    "    'عيادات أطباء الأسنان الحكومية', 'المستشفيات الحكومية', 'عيادات الأطباء الحكومية',\n",
    "    'المصحات والاستراحات الخاصة', 'المختبرات الخاصة', 'المستشفيات الخاصة'\n",
    "]\n"
   ]
  },
  {
   "cell_type": "code",
   "execution_count": 34,
   "id": "ac3ac379-ad09-4ea3-ba70-35f4a5007dfd",
   "metadata": {},
   "outputs": [],
   "source": [
    "filtered_df = df1[df1['business'].isin(categories_to_sum)]\n",
    "\n",
    "\n",
    "total_sum_hosp = filtered_df['Count'].sum()\n",
    "\n",
    "\n",
    "\n",
    "total_row = pd.DataFrame({'business': ['إجمالي عدد المراكز الصحية'], 'Count': total_sum_hosp})\n",
    "\n",
    "\n",
    "df1 = pd.concat([df1, total_row], ignore_index=True)"
   ]
  },
  {
   "cell_type": "code",
   "execution_count": 35,
   "id": "48a4de54-a344-4b94-9908-9528c15c13f7",
   "metadata": {},
   "outputs": [],
   "source": [
    "# Filter for rows where 'business' contains 'مطاعم' and sum the 'Count' column\n",
    "total_sum_park = df1[df1['business'].str.contains('حدائق', case=False, na=False)]['Count'].sum()\n",
    "\n",
    "# Create a new row with the total\n",
    "total_row = pd.DataFrame({'business': ['إجمالي عدد الحدائق'], 'Count': [total_sum_park]})\n",
    "\n",
    "# Append the new row to the original DataFrame\n",
    "df1 = pd.concat([df1, total_row], ignore_index=True)"
   ]
  },
  {
   "cell_type": "code",
   "execution_count": 36,
   "id": "abec31c4-0904-4b73-8cee-b7bc14ab1e67",
   "metadata": {},
   "outputs": [],
   "source": [
    "# Filter for rows where 'business' contains 'مطاعم' and sum the 'Count' column\n",
    "total_sum_gro = df1[df1['business'].str.contains('بقال', case=False, na=False)]['Count'].sum()\n",
    "\n",
    "# Create a new row with the total\n",
    "total_row = pd.DataFrame({'business': ['إجمالي عدد البقالات'], 'Count': [total_sum_gro]})\n",
    "\n",
    "# Append the new row to the original DataFrame\n",
    "df1 = pd.concat([df1, total_row], ignore_index=True)"
   ]
  },
  {
   "cell_type": "code",
   "execution_count": 37,
   "id": "c9968cff-cec1-4d26-80aa-0a3bf9e3c745",
   "metadata": {},
   "outputs": [],
   "source": [
    "# Filter for rows where 'business' contains 'مطاعم' and sum the 'Count' column\n",
    "total_sum_gym = df1[df1['business'].str.contains('الأندية', case=False, na=False)]['Count'].sum()\n",
    "\n",
    "# Create a new row with the total\n",
    "total_row = pd.DataFrame({'business': ['إجمالي عدد الأندية الرياضية'], 'Count': [total_sum_gym]})\n",
    "\n",
    "# Append the new row to the original DataFrame\n",
    "df1 = pd.concat([df1, total_row], ignore_index=True)"
   ]
  },
  {
   "cell_type": "code",
   "execution_count": 38,
   "id": "2ee790ba-dcc0-45f1-b6f8-0133e913e149",
   "metadata": {},
   "outputs": [],
   "source": [
    "bus = { 'business': 'اجمالي عدد محطات الباص' , 'Count' : 3}"
   ]
  },
  {
   "cell_type": "code",
   "execution_count": 39,
   "id": "c69b303a-5459-45f9-a28e-fcee45c21c05",
   "metadata": {},
   "outputs": [],
   "source": [
    "df1 = pd.concat([df1, pd.DataFrame([bus])], ignore_index=True)"
   ]
  },
  {
   "cell_type": "code",
   "execution_count": 40,
   "id": "74ea6194-cc01-45d8-be38-c4543eb1714e",
   "metadata": {},
   "outputs": [],
   "source": [
    "#school = { 'business': 'اجمالي عدد المدارس' , 'Count' : 18}"
   ]
  },
  {
   "cell_type": "code",
   "execution_count": 41,
   "id": "ee1e97b0-1ea1-4343-ab33-4a2d9af4ce40",
   "metadata": {},
   "outputs": [],
   "source": [
    "#df1 = pd.concat([df1, pd.DataFrame([school])], ignore_index=True)"
   ]
  },
  {
   "cell_type": "code",
   "execution_count": 42,
   "id": "b97b0d51-cf8a-4812-b476-e91255aef6e4",
   "metadata": {},
   "outputs": [],
   "source": [
    "#schoolm = { 'business': 'مدارس متوسط وثانوي بنين' , 'Count' : 4}"
   ]
  },
  {
   "cell_type": "code",
   "execution_count": 43,
   "id": "664434e9-676e-4fb7-9a54-5e9593df7b01",
   "metadata": {},
   "outputs": [],
   "source": [
    "#df1 = pd.concat([df1, pd.DataFrame([schoolm])], ignore_index=True)"
   ]
  },
  {
   "cell_type": "code",
   "execution_count": 44,
   "id": "aa5d4bee-f3a4-40f0-a9b4-d02909f5bd04",
   "metadata": {},
   "outputs": [],
   "source": [
    "#schoolf = { 'business': 'مدارس متوسط وثانوي بنات' , 'Count' : 5}"
   ]
  },
  {
   "cell_type": "code",
   "execution_count": 45,
   "id": "8c293a75-b90d-40ed-a864-a07aadeba58c",
   "metadata": {},
   "outputs": [],
   "source": [
    "#df1 = pd.concat([df1, pd.DataFrame([schoolf])], ignore_index=True)"
   ]
  },
  {
   "cell_type": "code",
   "execution_count": 46,
   "id": "59a20570-31f8-4c6c-b73f-e82ccb987d89",
   "metadata": {},
   "outputs": [],
   "source": [
    "#schooly = { 'business': 'مدارس ابتدائية' , 'Count' : 5}"
   ]
  },
  {
   "cell_type": "code",
   "execution_count": 47,
   "id": "6c0f2ab0-a03f-42e5-8fd3-1730ede5ea73",
   "metadata": {},
   "outputs": [],
   "source": [
    "#df1 = pd.concat([df1, pd.DataFrame([schooly])], ignore_index=True)"
   ]
  },
  {
   "cell_type": "code",
   "execution_count": 48,
   "id": "48ecf77b-480c-4f64-9485-95be805bc357",
   "metadata": {},
   "outputs": [],
   "source": [
    "# الياسمين :  18 مدرسة \n",
    "# بنين : 4 متوسط وثانوي \n",
    "# بنات : 5 متوسط وثانوي\n",
    "# ابتدائي : 5"
   ]
  },
  {
   "cell_type": "code",
   "execution_count": 49,
   "id": "ee200da8-62b0-492d-b118-f4d665a1fb16",
   "metadata": {},
   "outputs": [],
   "source": [
    "#hos = { 'business': 'اجمالي عدد المراكز الطبية' , 'Count' : 1}"
   ]
  },
  {
   "cell_type": "code",
   "execution_count": 50,
   "id": "4e66d611-6958-4860-8522-9ada7fce40b0",
   "metadata": {},
   "outputs": [],
   "source": [
    "#df1 = pd.concat([df1, pd.DataFrame([hos])], ignore_index=True)"
   ]
  },
  {
   "cell_type": "code",
   "execution_count": 51,
   "id": "57e741fb-71c1-46ad-a526-d8f0b1564dc3",
   "metadata": {},
   "outputs": [],
   "source": [
    "df1.to_csv('final_business_falah.csv')\n",
    "df.to_csv('final_age_falah.csv')"
   ]
  },
  {
   "cell_type": "code",
   "execution_count": null,
   "id": "01287962-8077-4c01-8d1d-5f8aed6cb37a",
   "metadata": {},
   "outputs": [],
   "source": []
  },
  {
   "cell_type": "code",
   "execution_count": null,
   "id": "06273b88-a169-42e8-81f5-5d71cb3f9c21",
   "metadata": {},
   "outputs": [],
   "source": []
  },
  {
   "cell_type": "code",
   "execution_count": null,
   "id": "f1d95da5-a3ba-473a-8243-aa177cadae20",
   "metadata": {},
   "outputs": [],
   "source": []
  },
  {
   "cell_type": "code",
   "execution_count": null,
   "id": "25a585f0-2b9c-42fa-bf21-cacc6aa3be3f",
   "metadata": {},
   "outputs": [],
   "source": []
  },
  {
   "cell_type": "code",
   "execution_count": null,
   "id": "db79d803-b75c-4686-a623-e8420321a90f",
   "metadata": {},
   "outputs": [],
   "source": []
  },
  {
   "cell_type": "code",
   "execution_count": null,
   "id": "72ece4b7-5508-403a-8fb0-f519fc74272a",
   "metadata": {},
   "outputs": [],
   "source": []
  },
  {
   "cell_type": "code",
   "execution_count": null,
   "id": "5be16f08-a072-4a02-a3ee-6f9d57786fb4",
   "metadata": {},
   "outputs": [],
   "source": []
  },
  {
   "cell_type": "code",
   "execution_count": null,
   "id": "f1058d84-e61e-4f5b-b66a-29931e77821b",
   "metadata": {},
   "outputs": [],
   "source": []
  },
  {
   "cell_type": "code",
   "execution_count": null,
   "id": "73f9f2ac-8477-49ea-9c68-4fe44d4395b6",
   "metadata": {},
   "outputs": [],
   "source": []
  },
  {
   "cell_type": "code",
   "execution_count": null,
   "id": "3590e345-2051-4215-91ac-07d196b510ef",
   "metadata": {},
   "outputs": [],
   "source": []
  },
  {
   "cell_type": "code",
   "execution_count": null,
   "id": "41023177-01cb-4f39-a750-12be71b13bda",
   "metadata": {},
   "outputs": [],
   "source": []
  },
  {
   "cell_type": "code",
   "execution_count": null,
   "id": "8406f58f-b825-4a15-8f6e-c68ca66bd483",
   "metadata": {},
   "outputs": [],
   "source": []
  }
 ],
 "metadata": {
  "kernelspec": {
   "display_name": "Python 3 (ipykernel)",
   "language": "python",
   "name": "python3"
  },
  "language_info": {
   "codemirror_mode": {
    "name": "ipython",
    "version": 3
   },
   "file_extension": ".py",
   "mimetype": "text/x-python",
   "name": "python",
   "nbconvert_exporter": "python",
   "pygments_lexer": "ipython3",
   "version": "3.12.4"
  }
 },
 "nbformat": 4,
 "nbformat_minor": 5
}
